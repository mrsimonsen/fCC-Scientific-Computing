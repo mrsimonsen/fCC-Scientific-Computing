{
 "cells": [
  {
   "cell_type": "code",
   "execution_count": 2,
   "id": "2adc5b0a",
   "metadata": {},
   "outputs": [],
   "source": [
    "from medical_data_visualizer import *"
   ]
  },
  {
   "cell_type": "code",
   "execution_count": 21,
   "id": "c9e5d077",
   "metadata": {},
   "outputs": [],
   "source": [
    "df_heat = df[(df['ap_lo']<=df['ap_hi'])&\t\t#low pressure greater than hi\n",
    "\t(df['height']>=df['height'].quantile(0.025))&\t#height less than 2.5%\n",
    "\t(df['height']<=df['height'].quantile(0.975))&\t#height greater than 97.5%\n",
    "\t(df['weight']>=df['weight'].quantile(0.025))&\t#weight less than 2.5%\n",
    "\t(df['weight']<=df['weight'].quantile(0.975))]\t#weight greater than 97.5%"
   ]
  }
 ],
 "metadata": {
  "kernelspec": {
   "display_name": "Python 3 (ipykernel)",
   "language": "python",
   "name": "python3"
  },
  "language_info": {
   "codemirror_mode": {
    "name": "ipython",
    "version": 3
   },
   "file_extension": ".py",
   "mimetype": "text/x-python",
   "name": "python",
   "nbconvert_exporter": "python",
   "pygments_lexer": "ipython3",
   "version": "3.8.10"
  }
 },
 "nbformat": 4,
 "nbformat_minor": 5
}
