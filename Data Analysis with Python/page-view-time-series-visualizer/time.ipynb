{
 "cells": [
  {
   "cell_type": "code",
   "execution_count": 2,
   "id": "ba08baa3",
   "metadata": {},
   "outputs": [],
   "source": [
    "from time_series_visualizer import *"
   ]
  },
  {
   "cell_type": "code",
   "execution_count": 64,
   "id": "0d359f6a",
   "metadata": {},
   "outputs": [
    {
     "ename": "TypeError",
     "evalue": "'Int64Index' object is not callable",
     "output_type": "error",
     "traceback": [
      "\u001b[0;31m---------------------------------------------------------------------------\u001b[0m",
      "\u001b[0;31mTypeError\u001b[0m                                 Traceback (most recent call last)",
      "Cell \u001b[0;32mIn [64], line 1\u001b[0m\n\u001b[0;32m----> 1\u001b[0m df_bar \u001b[38;5;241m=\u001b[39m df\u001b[38;5;241m.\u001b[39mgroupby([df\u001b[38;5;241m.\u001b[39mindex\u001b[38;5;241m.\u001b[39myear,df\u001b[38;5;241m.\u001b[39mindex\u001b[38;5;241m.\u001b[39mmonth_name()])[\u001b[38;5;124m'\u001b[39m\u001b[38;5;124mvalue\u001b[39m\u001b[38;5;124m'\u001b[39m]\u001b[38;5;241m.\u001b[39mmean()\u001b[38;5;241m.\u001b[39msort_values(df\u001b[38;5;241m.\u001b[39mindex\u001b[38;5;241m.\u001b[39mmonth())\n\u001b[1;32m      3\u001b[0m fig \u001b[38;5;241m=\u001b[39m df_bar\u001b[38;5;241m.\u001b[39munstack()\u001b[38;5;241m.\u001b[39mplot\u001b[38;5;241m.\u001b[39mbar()\n\u001b[1;32m      4\u001b[0m fig\u001b[38;5;241m.\u001b[39mset(xlabel\u001b[38;5;241m=\u001b[39m\u001b[38;5;124m'\u001b[39m\u001b[38;5;124mYears\u001b[39m\u001b[38;5;124m'\u001b[39m,ylabel\u001b[38;5;241m=\u001b[39m\u001b[38;5;124m'\u001b[39m\u001b[38;5;124mAverage Page Views\u001b[39m\u001b[38;5;124m'\u001b[39m)\n",
      "\u001b[0;31mTypeError\u001b[0m: 'Int64Index' object is not callable"
     ]
    }
   ],
   "source": [
    "df_bar = df.groupby([df.index.year,df.index.month_name()])['value'].mean().sort_values(df.index.month\n",
    "\n",
    "fig = df_bar.unstack().plot.bar()\n",
    "fig.set(xlabel='Years',ylabel='Average Page Views')\n",
    "fig.legend(title='Month')"
   ]
  }
 ],
 "metadata": {
  "kernelspec": {
   "display_name": "Python 3 (ipykernel)",
   "language": "python",
   "name": "python3"
  },
  "language_info": {
   "codemirror_mode": {
    "name": "ipython",
    "version": 3
   },
   "file_extension": ".py",
   "mimetype": "text/x-python",
   "name": "python",
   "nbconvert_exporter": "python",
   "pygments_lexer": "ipython3",
   "version": "3.8.10"
  }
 },
 "nbformat": 4,
 "nbformat_minor": 5
}
