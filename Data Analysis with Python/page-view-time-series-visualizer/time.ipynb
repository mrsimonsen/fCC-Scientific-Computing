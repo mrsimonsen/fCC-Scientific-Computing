{
 "cells": [
  {
   "cell_type": "code",
   "execution_count": 1,
   "id": "de9f0ffc",
   "metadata": {},
   "outputs": [],
   "source": [
    "from time_series_visualizer import *"
   ]
  },
  {
   "cell_type": "code",
   "execution_count": 20,
   "id": "e8277729",
   "metadata": {},
   "outputs": [
    {
     "ename": "AttributeError",
     "evalue": "module 'seaborn' has no attribute 'Plot'",
     "output_type": "error",
     "traceback": [
      "\u001b[0;31m---------------------------------------------------------------------------\u001b[0m",
      "\u001b[0;31mAttributeError\u001b[0m                            Traceback (most recent call last)",
      "Cell \u001b[0;32mIn [20], line 2\u001b[0m\n\u001b[1;32m      1\u001b[0m title \u001b[38;5;241m=\u001b[39m \u001b[38;5;124m\"\u001b[39m\u001b[38;5;124mDaily freeCodeCamp Forum Page Views 5/2016-12/2019\u001b[39m\u001b[38;5;124m\"\u001b[39m\n\u001b[0;32m----> 2\u001b[0m fig \u001b[38;5;241m=\u001b[39m sns\u001b[38;5;241m.\u001b[39mPlot(data\u001b[38;5;241m=\u001b[39mdf)\n",
      "\u001b[0;31mAttributeError\u001b[0m: module 'seaborn' has no attribute 'Plot'"
     ]
    }
   ],
   "source": [
    "title = \"Daily freeCodeCamp Forum Page Views 5/2016-12/2019\"\n",
    "fig = sns.Plot(data=df)"
   ]
  }
 ],
 "metadata": {
  "kernelspec": {
   "display_name": "Python 3 (ipykernel)",
   "language": "python",
   "name": "python3"
  },
  "language_info": {
   "codemirror_mode": {
    "name": "ipython",
    "version": 3
   },
   "file_extension": ".py",
   "mimetype": "text/x-python",
   "name": "python",
   "nbconvert_exporter": "python",
   "pygments_lexer": "ipython3",
   "version": "3.8.10"
  }
 },
 "nbformat": 4,
 "nbformat_minor": 5
}
