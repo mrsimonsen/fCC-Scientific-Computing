{
 "cells": [
  {
   "cell_type": "code",
   "execution_count": 6,
   "id": "07b5d0dd",
   "metadata": {},
   "outputs": [],
   "source": [
    "from time_series_visualizer import *"
   ]
  },
  {
   "cell_type": "code",
   "execution_count": 11,
   "id": "9d71c927",
   "metadata": {},
   "outputs": [],
   "source": [
    "df_bar = df.copy()"
   ]
  },
  {
   "cell_type": "code",
   "execution_count": 13,
   "id": "8e28716b",
   "metadata": {},
   "outputs": [],
   "source": [
    "df_bar['month']=df_bar.index.month_name()"
   ]
  },
  {
   "cell_type": "code",
   "execution_count": 14,
   "id": "36a06b2e",
   "metadata": {},
   "outputs": [
    {
     "data": {
      "text/html": [
       "<div>\n",
       "<style scoped>\n",
       "    .dataframe tbody tr th:only-of-type {\n",
       "        vertical-align: middle;\n",
       "    }\n",
       "\n",
       "    .dataframe tbody tr th {\n",
       "        vertical-align: top;\n",
       "    }\n",
       "\n",
       "    .dataframe thead th {\n",
       "        text-align: right;\n",
       "    }\n",
       "</style>\n",
       "<table border=\"1\" class=\"dataframe\">\n",
       "  <thead>\n",
       "    <tr style=\"text-align: right;\">\n",
       "      <th></th>\n",
       "      <th>value</th>\n",
       "      <th>month</th>\n",
       "    </tr>\n",
       "    <tr>\n",
       "      <th>date</th>\n",
       "      <th></th>\n",
       "      <th></th>\n",
       "    </tr>\n",
       "  </thead>\n",
       "  <tbody>\n",
       "    <tr>\n",
       "      <th>2016-05-19</th>\n",
       "      <td>19736</td>\n",
       "      <td>May</td>\n",
       "    </tr>\n",
       "    <tr>\n",
       "      <th>2016-05-26</th>\n",
       "      <td>18060</td>\n",
       "      <td>May</td>\n",
       "    </tr>\n",
       "    <tr>\n",
       "      <th>2016-05-27</th>\n",
       "      <td>19997</td>\n",
       "      <td>May</td>\n",
       "    </tr>\n",
       "    <tr>\n",
       "      <th>2016-05-28</th>\n",
       "      <td>19044</td>\n",
       "      <td>May</td>\n",
       "    </tr>\n",
       "    <tr>\n",
       "      <th>2016-05-29</th>\n",
       "      <td>20325</td>\n",
       "      <td>May</td>\n",
       "    </tr>\n",
       "  </tbody>\n",
       "</table>\n",
       "</div>"
      ],
      "text/plain": [
       "            value month\n",
       "date                   \n",
       "2016-05-19  19736   May\n",
       "2016-05-26  18060   May\n",
       "2016-05-27  19997   May\n",
       "2016-05-28  19044   May\n",
       "2016-05-29  20325   May"
      ]
     },
     "execution_count": 14,
     "metadata": {},
     "output_type": "execute_result"
    }
   ],
   "source": [
    "df_bar.head()"
   ]
  }
 ],
 "metadata": {
  "kernelspec": {
   "display_name": "Python 3 (ipykernel)",
   "language": "python",
   "name": "python3"
  },
  "language_info": {
   "codemirror_mode": {
    "name": "ipython",
    "version": 3
   },
   "file_extension": ".py",
   "mimetype": "text/x-python",
   "name": "python",
   "nbconvert_exporter": "python",
   "pygments_lexer": "ipython3",
   "version": "3.8.10"
  }
 },
 "nbformat": 4,
 "nbformat_minor": 5
}
